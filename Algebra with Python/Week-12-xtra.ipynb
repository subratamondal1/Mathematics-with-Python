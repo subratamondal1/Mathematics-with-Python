{
  "nbformat": 4,
  "nbformat_minor": 0,
  "metadata": {
    "colab": {
      "provenance": [],
      "include_colab_link": true
    },
    "kernelspec": {
      "name": "python3",
      "display_name": "Python 3"
    },
    "language_info": {
      "name": "python"
    }
  },
  "cells": [
    {
      "cell_type": "markdown",
      "metadata": {
        "id": "view-in-github",
        "colab_type": "text"
      },
      "source": [
        "<a href=\"https://colab.research.google.com/github/edatfreecodecamp/python-math/blob/main/Week-12-xtra.ipynb\" target=\"_parent\"><img src=\"https://colab.research.google.com/assets/colab-badge.svg\" alt=\"Open In Colab\"/></a>"
      ]
    },
    {
      "cell_type": "markdown",
      "source": [
        "Marginal cost, revenue, profit is the result when making and selling one more product."
      ],
      "metadata": {
        "id": "nkOUIsiUGWZi"
      }
    },
    {
      "cell_type": "markdown",
      "source": [
        "#Supply and Demand Graph"
      ],
      "metadata": {
        "id": "L1s9BCX5_cZs"
      }
    },
    {
      "cell_type": "code",
      "source": [
        "import matplotlib.pyplot as plt\n",
        "\n",
        "old_demand_x = 1\n",
        "new_demand_x = 12\n",
        "old_price_y = 14\n",
        "new_price_y = 3\n",
        "old_supply_x = 11\n",
        "new_supply_x = 1\n",
        "\n",
        "# For the graph\n",
        "xmin = 0\n",
        "xmax = 15\n",
        "ymin = 0\n",
        "ymax = 15\n",
        "\n",
        "\n",
        "# Basic setup for the graph\n",
        "fig, ax = plt.subplots()\n",
        "plt.axis([xmin,xmax,ymin,ymax]) # window size\n",
        "plt.plot([xmin,xmax],[0,0],'b') # blue x axis\n",
        "plt.plot([0,0],[ymin,ymax], 'b') # blue y axis\n",
        "plt.xlabel(\"Quantity\")\n",
        "plt.ylabel(\"Price\")\n",
        "plt.title(\"Green=Supply, Red=Demand\")\n",
        "\n",
        "# Plot the demand function as a red line\n",
        "plt.plot([old_demand_x,new_demand_x],[old_price_y,new_price_y],'r')\n",
        "\n",
        "# Plot the supply function as a green line\n",
        "plt.plot([old_supply_x,new_supply_x],[old_price_y,new_price_y],'g')\n",
        "\n",
        "plt.show()\n"
      ],
      "metadata": {
        "id": "znMFHJt0_kEF",
        "colab": {
          "base_uri": "https://localhost:8080/",
          "height": 295
        },
        "outputId": "eb7973eb-3880-4c68-b614-074f73274c22"
      },
      "execution_count": null,
      "outputs": [
        {
          "output_type": "display_data",
          "data": {
            "text/plain": [
              "<Figure size 432x288 with 1 Axes>"
            ],
            "image/png": "[encoded data removed]"
          },
          "metadata": {
            "needs_background": "light"
          }
        }
      ]
    },
    {
      "cell_type": "markdown",
      "source": [
        "# Calculate the price elasticity of demand\n",
        "$ \\frac{percent\\ change\\ in\\ demand}{percent\\ change\\ in\\ price} $\n"
      ],
      "metadata": {
        "id": "EpxY0CImVXtA"
      }
    },
    {
      "cell_type": "code",
      "execution_count": null,
      "metadata": {
        "id": "lBeX5MDIUs7_",
        "colab": {
          "base_uri": "https://localhost:8080/"
        },
        "outputId": "7a308ae3-362e-44a4-f587-a7f4d704c3f0"
      },
      "outputs": [
        {
          "output_type": "stream",
          "name": "stdout",
          "text": [
            "-2.2\n",
            "Demand is inelastic\n"
          ]
        }
      ],
      "source": [
        "old_demand = 5\n",
        "new_demand = 6\n",
        "old_price = 11\n",
        "new_price = 10\n",
        "\n",
        "# percent change in price\n",
        "price_change = (new_price - old_price) / old_price\n",
        "\n",
        "\n",
        "# percent change in demand\n",
        "demand_change = (new_demand - old_demand) / old_demand\n",
        "\n",
        "e_number = demand_change/price_change\n",
        "\n",
        "# elasticity\n",
        "print(e_number)\n",
        "\n",
        "if e_number>1:\n",
        "    print(\"Demand is elastic\")\n",
        "elif e_number==1:\n",
        "    print(\"Demand is unitary or proportional\")\n",
        "elif e_number<1:\n",
        "    print(\"Demand is inelastic\")\n",
        "else:\n",
        "    print(\"?\")\n",
        "\n",
        "\n",
        "\n",
        "\n"
      ]
    },
    {
      "cell_type": "markdown",
      "source": [
        "#Calculate Price Elasticity of Supply\n",
        "$ \\frac{percent\\ change\\ in\\ supply}{percent\\ change\\ in\\ price} $"
      ],
      "metadata": {
        "id": "z6eaEpnyW9M-"
      }
    },
    {
      "cell_type": "code",
      "source": [
        "old_price = 4\n",
        "new_price = 7\n",
        "old_supply = 10\n",
        "new_supply = 11\n",
        "\n",
        "\n",
        "# percent change in price\n",
        "price_change = (new_price - old_price) / old_price\n",
        "\n",
        "\n",
        "# percent change in supply\n",
        "supply_change = (new_supply - old_supply) / old_supply\n",
        "\n",
        "e_number = supply_change/price_change\n",
        "\n",
        "# elasticity\n",
        "print(e_number)\n",
        "\n",
        "if e_number>1:\n",
        "    print(\"Supply is elastic\")\n",
        "elif e_number==1:\n",
        "    print(\"Supply is unitary or proportional\")\n",
        "elif e_number<1:\n",
        "    print(\"Supply is inelastic\")\n",
        "else:\n",
        "    print(\"?\")\n",
        "\n",
        "\n"
      ],
      "metadata": {
        "id": "TKsasSRZW_qz",
        "colab": {
          "base_uri": "https://localhost:8080/"
        },
        "outputId": "1e36b05b-a7c6-4eca-ffd2-43f350d90ece"
      },
      "execution_count": null,
      "outputs": [
        {
          "output_type": "stream",
          "name": "stdout",
          "text": [
            "0.13333333333333333\n",
            "Supply is inelastic\n"
          ]
        }
      ]
    }
  ]
}
