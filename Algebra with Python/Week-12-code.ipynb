{
  "nbformat": 4,
  "nbformat_minor": 0,
  "metadata": {
    "colab": {
      "provenance": [],
      "authorship_tag": "ABX9TyNDVfLCU3nJUeUemoPOZrCL",
      "include_colab_link": true
    },
    "kernelspec": {
      "name": "python3",
      "display_name": "Python 3"
    },
    "language_info": {
      "name": "python"
    }
  },
  "cells": [
    {
      "cell_type": "markdown",
      "metadata": {
        "id": "view-in-github",
        "colab_type": "text"
      },
      "source": [
        "<a href=\"https://colab.research.google.com/github/edatfreecodecamp/python-math/blob/main/Week-12-code.ipynb\" target=\"_parent\"><img src=\"https://colab.research.google.com/assets/colab-badge.svg\" alt=\"Open In Colab\"/></a>"
      ]
    },
    {
      "cell_type": "markdown",
      "source": [
        "Selling tee shirts example"
      ],
      "metadata": {
        "id": "jN-wrAUXjCq2"
      }
    },
    {
      "cell_type": "code",
      "execution_count": null,
      "metadata": {
        "id": "evLVBly4g6DD",
        "colab": {
          "base_uri": "https://localhost:8080/"
        },
        "outputId": "89a8b7dc-4340-41f8-b663-2ef360f891f6"
      },
      "outputs": [
        {
          "output_type": "stream",
          "name": "stdout",
          "text": [
            "price:  10\n",
            "demand:  30\n",
            "revenue:  300\n",
            "total cost:  120\n",
            "profit  180\n"
          ]
        }
      ],
      "source": [
        "\n",
        "\n",
        "price = 10\n",
        "demand = 50 - 2*price \n",
        "revenue = price*demand \n",
        "total_cost = 4*demand \n",
        "profit = revenue - total_cost \n",
        "\n",
        "print(\"price: \", price)\n",
        "print(\"demand: \", demand)\n",
        "print(\"revenue: \", revenue)\n",
        "print(\"total cost: \", total_cost)\n",
        "print(\"profit \", profit)\n"
      ]
    },
    {
      "cell_type": "code",
      "source": [
        "import matplotlib.pyplot as plt\n",
        "import numpy as np\n",
        "\n",
        "# price = x\n",
        "# demand = y\n",
        "\n",
        "price_1 = 2\n",
        "demand_1 = 46\n",
        "price_2 = 10\n",
        "demand_2 = 30\n",
        "m = (demand_2 - demand_1)/(price_2 - price_1)\n",
        "b = demand_1 - m*price_1\n",
        "# This becomes a y = mx + b equation \n",
        "\n",
        "xmin = 0\n",
        "xmax = 50\n",
        "ymin = 0\n",
        "ymax = 320\n",
        "points = 10*(xmax-xmin)\n",
        "x = np.linspace(xmin,xmax,points)\n",
        "\n",
        "fig, ax = plt.subplots()\n",
        "plt.axis([xmin,xmax,ymin,ymax]) # window size\n",
        "plt.plot([xmin,xmax],[0,0],'b') # blue x axis\n",
        "plt.plot([0,0],[ymin,ymax], 'b') # blue y axis\n",
        "\n",
        "plt.xlabel(\"Price\")\n",
        "plt.title(\"Financial Algebra\")\n",
        "\n",
        "# line 1\n",
        "demand = m*x + b\n",
        "#plt.ylabel(\"Demand\") \n",
        "#plt.plot(x, demand) \n",
        "\n",
        "# line 2\n",
        "revenue = x*demand\n",
        "plt.plot(x, revenue) \n",
        "plt.ylabel(\"Revenue\")\n",
        "\n",
        "plt.show()\n",
        "\n"
      ],
      "metadata": {
        "id": "_4zOmGCNgY3z",
        "colab": {
          "base_uri": "https://localhost:8080/",
          "height": 295
        },
        "outputId": "ba217740-2fbc-4651-afe2-5b275d619deb"
      },
      "execution_count": null,
      "outputs": [
        {
          "output_type": "display_data",
          "data": {
            "text/plain": [
              "<Figure size 432x288 with 1 Axes>"
            ],
            "image/png": "[encoded data removed]"
          },
          "metadata": {
            "needs_background": "light"
          }
        }
      ]
    },
    {
      "cell_type": "code",
      "source": [],
      "metadata": {
        "id": "BEDMWQz4p0aQ"
      },
      "execution_count": null,
      "outputs": []
    }
  ]
}
