{
  "cells": [
    {
      "cell_type": "markdown",
      "metadata": {
        "id": "view-in-github",
        "colab_type": "text"
      },
      "source": [
        "<a href=\"https://colab.research.google.com/github/edatfreecodecamp/python-math/blob/main/Week-13-code.ipynb\" target=\"_parent\"><img src=\"https://colab.research.google.com/assets/colab-badge.svg\" alt=\"Open In Colab\"/></a>"
      ]
    },
    {
      "cell_type": "markdown",
      "metadata": {
        "id": "l48ljbtEwCIq"
      },
      "source": [
        "Simple interest<br>\n",
        "principle * rate * time = interest"
      ]
    },
    {
      "cell_type": "code",
      "execution_count": null,
      "metadata": {
        "id": "7SGCtdoGvswP",
        "colab": {
          "base_uri": "https://localhost:8080/"
        },
        "outputId": "1af4ca54-c78b-47fd-89c9-ec8faf2a5874"
      },
      "outputs": [
        {
          "output_type": "stream",
          "name": "stdout",
          "text": [
            "interest =  50.0\n"
          ]
        }
      ],
      "source": [
        "p = 1000\n",
        "r = .05\n",
        "t = 1\n",
        "interest = p*r*t\n",
        "print(\"interest = \", interest)\n"
      ]
    },
    {
      "cell_type": "markdown",
      "metadata": {
        "id": "JX_4BnO2wnVU"
      },
      "source": [
        "New amount = principle + interest"
      ]
    },
    {
      "cell_type": "code",
      "execution_count": null,
      "metadata": {
        "id": "eWfb95dxww0U",
        "colab": {
          "base_uri": "https://localhost:8080/"
        },
        "outputId": "d00e25e9-4830-478c-d8a0-cf9059d4a459"
      },
      "outputs": [
        {
          "output_type": "stream",
          "name": "stdout",
          "text": [
            "New amount =  1150.0\n"
          ]
        }
      ],
      "source": [
        "p = 1000\n",
        "r = .05\n",
        "t = 3\n",
        "interest = p*r*t\n",
        "a = p + interest\n",
        "print(\"New amount = \", a)\n"
      ]
    },
    {
      "cell_type": "markdown",
      "metadata": {
        "id": "c4r9qvhsxMHA"
      },
      "source": [
        "The algebra for any percent increase:<br>\n",
        "New amount = p + p*r<br>\n",
        "new amount = p * (1 + r)<br>\n",
        "\n",
        "\n"
      ]
    },
    {
      "cell_type": "code",
      "execution_count": null,
      "metadata": {
        "id": "2K1yAOMwxvxE",
        "colab": {
          "base_uri": "https://localhost:8080/"
        },
        "outputId": "aea4dfba-0643-4b3f-eaf0-b2001d7b7d43"
      },
      "outputs": [
        {
          "output_type": "stream",
          "name": "stdout",
          "text": [
            "New amount =  1050.0\n"
          ]
        }
      ],
      "source": [
        "p = 1000\n",
        "r = .05\n",
        "a = p*(1+r)\n",
        "print(\"New amount = \", a)\n"
      ]
    },
    {
      "cell_type": "markdown",
      "metadata": {
        "id": "uObwM4RAx7mx"
      },
      "source": [
        "Compounding is adding the interest to the principle and then calculating percent increase from this new amount<br>\n",
        "Original amount = P<br>\n",
        "New amount = P*(1+r)<br>\n",
        "Compounded again = P*(1+r)*(1+r)<br>\n",
        "And again = P*(1+r)*(1+r)*(1+r) = P(1+r)<sup>3</sup>"
      ]
    },
    {
      "cell_type": "code",
      "execution_count": null,
      "metadata": {
        "id": "FaIHh86Wztag",
        "colab": {
          "base_uri": "https://localhost:8080/"
        },
        "outputId": "64ae26c2-1b02-44ac-f9be-ce6c17d1c308"
      },
      "outputs": [
        {
          "output_type": "stream",
          "name": "stdout",
          "text": [
            "Annuity =  1157.6250000000002\n"
          ]
        }
      ],
      "source": [
        "P = 1000\n",
        "r = .05\n",
        "t = 3\n",
        "annuity = p*(1+r)**t\n",
        "\n",
        "print(\"Annuity = \", annuity)\n"
      ]
    },
    {
      "cell_type": "markdown",
      "metadata": {
        "id": "MByKs5750erH"
      },
      "source": [
        "When the compunding happens `n` times per year, here is the formula:<br>\n",
        "A = P(1 +  $\\frac{r}{n})^{nt}$"
      ]
    },
    {
      "cell_type": "code",
      "execution_count": null,
      "metadata": {
        "id": "lOiY47piBYg-",
        "colab": {
          "base_uri": "https://localhost:8080/"
        },
        "outputId": "59987cd6-538a-45c5-cd96-83d3393d4727"
      },
      "outputs": [
        {
          "output_type": "stream",
          "name": "stdout",
          "text": [
            "Annuity =  1161.4722313334678\n"
          ]
        }
      ],
      "source": [
        "P = 1000\n",
        "r = .05\n",
        "t = 3\n",
        "n = 12\n",
        "\n",
        "# use extra parentheses\n",
        "annuity = p*(1+(r/n))**(n*t)\n",
        "\n",
        "print(\"Annuity = \", annuity)\n"
      ]
    },
    {
      "cell_type": "markdown",
      "metadata": {
        "id": "rXT0ZjbTCcFm"
      },
      "source": [
        "the irrational number e"
      ]
    },
    {
      "cell_type": "code",
      "execution_count": null,
      "metadata": {
        "colab": {
          "base_uri": "https://localhost:8080/"
        },
        "id": "FAQSLlRkCpPc",
        "outputId": "7fcc6ceb-18fe-40be-b33e-2deb526ee071"
      },
      "outputs": [
        {
          "output_type": "stream",
          "name": "stdout",
          "text": [
            "2.718281828459045\n"
          ]
        }
      ],
      "source": [
        "import math\n",
        "\n",
        "print(math.e)\n"
      ]
    },
    {
      "cell_type": "markdown",
      "metadata": {
        "id": "jwkJMQaZDWFh"
      },
      "source": [
        "Continuous growth: Annuity = Pe<sup>rt</sup>"
      ]
    },
    {
      "cell_type": "code",
      "execution_count": null,
      "metadata": {
        "id": "I3XM_jH1C5AB",
        "colab": {
          "base_uri": "https://localhost:8080/"
        },
        "outputId": "94db8735-a1f0-4d65-d8da-0f22c293c655"
      },
      "outputs": [
        {
          "output_type": "stream",
          "name": "stdout",
          "text": [
            "1161.8298860036332  or  1161.834242728283\n"
          ]
        }
      ],
      "source": [
        "import math\n",
        "\n",
        "p = 1000\n",
        "r = .05\n",
        "t = 3\n",
        "n = 1000\n",
        "\n",
        "n_times = p*(1+(r/n))**(n*t)\n",
        "\n",
        "continuous = p*math.e**(r*t)\n",
        "\n",
        "print(n_times, \" or \", continuous)\n",
        "\n"
      ]
    },
    {
      "cell_type": "markdown",
      "metadata": {
        "id": "UZfzA-XlIp-F"
      },
      "source": [
        "Mortgage formula<br>\n",
        "monthly payment = P$\\frac{\\frac{r}{12}(1 + \\frac{r}{12})^{12t}}{(1 + \\frac{r}{12})^{12t} - 1}$ \n"
      ]
    },
    {
      "cell_type": "code",
      "execution_count": null,
      "metadata": {
        "colab": {
          "base_uri": "https://localhost:8080/"
        },
        "id": "5do22sV_Fa7I",
        "outputId": "22bf51ff-2958-402b-bb2c-9f949e6a8526"
      },
      "outputs": [
        {
          "output_type": "stream",
          "name": "stdout",
          "text": [
            "monthly payment =  1362.69\n"
          ]
        }
      ],
      "source": [
        "p = 240000\n",
        "r = .055\n",
        "t = 30\n",
        "\n",
        "# Break down that formula into parts\n",
        "numerator = (r/12)*(1+(r/12))**(12*t) \n",
        "denominator = (1+(r/12))**(12*t) - 1 \n",
        "payment = round(p*numerator/denominator, 2)\n",
        "\n",
        "print(\"monthly payment = \", payment)\n"
      ]
    },
    {
      "cell_type": "markdown",
      "metadata": {
        "id": "V4YPkA6CLM1b"
      },
      "source": [
        "Amortization (mortgage payment schedule)"
      ]
    },
    {
      "cell_type": "code",
      "execution_count": null,
      "metadata": {
        "id": "tpRMuLdDJ6s8",
        "colab": {
          "base_uri": "https://localhost:8080/"
        },
        "outputId": "5987d0d3-1bb4-46f2-8254-7368802776e9"
      },
      "outputs": [
        {
          "output_type": "stream",
          "name": "stdout",
          "text": [
            "payment =  1362.69\n",
            "month \t balance \t interest\n",
            "0 \t 240000.0 \t 1100.0\n",
            "24 \t 233351.69 \t 1069.53\n",
            "48 \t 225932.19 \t 1035.52\n",
            "72 \t 217652.04 \t 997.57\n",
            "96 \t 208411.46 \t 955.22\n",
            "120 \t 198098.97 \t 907.95\n",
            "144 \t 186590.25 \t 855.21\n",
            "168 \t 173746.54 \t 796.34\n",
            "192 \t 159412.99 \t 730.64\n",
            "216 \t 143416.81 \t 657.33\n",
            "240 \t 125565.08 \t 575.51\n",
            "264 \t 105642.58 \t 484.2\n",
            "288 \t 83409.15 \t 382.29\n",
            "312 \t 58596.68 \t 268.57\n",
            "336 \t 30906.0 \t 141.65\n",
            "359 \t 1359.74 \t 6.23\n"
          ]
        }
      ],
      "source": [
        "p = 240000.00\n",
        "r = .055\n",
        "t = 30\n",
        "\n",
        "\n",
        "# Break down that formula into parts\n",
        "numerator = (r/12)*(1+(r/12))**(12*t)\n",
        "denominator = (1+(r/12))**(12*t) - 1\n",
        "payment = round(p* numerator/denominator, 2)\n",
        "\n",
        "print(\"payment = \", payment)\n",
        "\n",
        "# loop to show interest amounts\n",
        "balance = p\n",
        "print(\"month \\t balance \\t interest\") \n",
        "for a in range(12*t):\n",
        "    interest = round(balance*r/12, 2)\n",
        "    if a%24==0 or a==359:\n",
        "        print(a, \"\\t\", balance, \"\\t\", interest) \n",
        "    balance = round(balance+interest-payment,2) \n",
        "\n"
      ]
    },
    {
      "cell_type": "markdown",
      "metadata": {
        "id": "zu20IkH4SULn"
      },
      "source": [
        "Retirement account estimation"
      ]
    },
    {
      "cell_type": "code",
      "execution_count": null,
      "metadata": {
        "id": "xhyuJ4eyOCan",
        "colab": {
          "base_uri": "https://localhost:8080/"
        },
        "outputId": "9e809783-0d51-4384-c8e8-aaf1f8d3addc"
      },
      "outputs": [
        {
          "output_type": "stream",
          "name": "stdout",
          "text": [
            "annuity =  1061597.32\n",
            "Annual income from interest =  84927.79\n"
          ]
        }
      ],
      "source": [
        "# Change these variables\n",
        "p = 1000\n",
        "r = .08\n",
        "t = 38\n",
        "monthly = 350\n",
        "\n",
        "# The loop will update this variable\n",
        "annuity = p\n",
        "\n",
        "# loop for contribution and percent growth\n",
        "for a in range(12*t):\n",
        "    annuity = (annuity+monthly)*(1+(r/12))\n",
        "\n",
        "print(\"annuity = \", round(annuity, 2))\n",
        "print(\"Annual income from interest = \", round(annuity*r, 2))\n"
      ]
    },
    {
      "cell_type": "code",
      "execution_count": null,
      "metadata": {
        "id": "3tAAhpmlT06e"
      },
      "outputs": [],
      "source": []
    }
  ],
  "metadata": {
    "colab": {
      "provenance": [],
      "authorship_tag": "ABX9TyOdYRBlOoMILITAGdItP1e1",
      "include_colab_link": true
    },
    "kernelspec": {
      "display_name": "Python 3",
      "name": "python3"
    },
    "language_info": {
      "name": "python"
    }
  },
  "nbformat": 4,
  "nbformat_minor": 0
}
