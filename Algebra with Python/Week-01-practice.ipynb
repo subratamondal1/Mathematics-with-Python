{
  "nbformat": 4,
  "nbformat_minor": 0,
  "metadata": {
    "colab": {
      "name": "Week_01 - practice.ipynb",
      "provenance": [],
      "collapsed_sections": [],
      "authorship_tag": "ABX9TyMdjXwsvy+ey4yxWz8L7VMa",
      "include_colab_link": true
    },
    "kernelspec": {
      "name": "python3",
      "display_name": "Python 3"
    },
    "language_info": {
      "name": "python"
    }
  },
  "cells": [
    {
      "cell_type": "markdown",
      "metadata": {
        "id": "view-in-github",
        "colab_type": "text"
      },
      "source": [
        "<a href=\"https://colab.research.google.com/github/edatfreecodecamp/python-math/blob/main/Week-01-practice.ipynb\" target=\"_parent\"><img src=\"https://colab.research.google.com/assets/colab-badge.svg\" alt=\"Open In Colab\"/></a>"
      ]
    },
    {
      "cell_type": "markdown",
      "source": [
        "Run this code to practice solving proportions. It will give you four practice problems. If you don't get them all correct, you can run this again to get more practice. Your answer can be a fraction, decimal, or whole number."
      ],
      "metadata": {
        "id": "8Js2i4mQi-S7"
      }
    },
    {
      "cell_type": "code",
      "execution_count": null,
      "metadata": {
        "id": "wj5n3OeHi4JF"
      },
      "outputs": [],
      "source": [
        "# converts string input (including fractions) to float\n",
        "def string_frac(in_string):\n",
        "    if \"/\" in in_string:\n",
        "        nd = in_string.split(\"/\")\n",
        "        n = float(nd[0])\n",
        "        d = float(nd[1])\n",
        "        ans = n/d\n",
        "        return ans\n",
        "    else:\n",
        "        ans = float(in_string)\n",
        "        return ans\n",
        "\n",
        "\n",
        "# Proportions - unknown numerator\n",
        "def proportions_n():\n",
        "    import random\n",
        "    # Uses string_frac() function\n",
        "    n1 = random.randint(1,21)\n",
        "    d1 = random.randint(1,21)\n",
        "    n2 = \"x\"\n",
        "    d2 = random.randint(1,21)\n",
        "    print(n1, \"\\t\\t\", n2)\n",
        "    print(\"--- \\t = \\t ---\")\n",
        "    print(d1, \"\\t\\t\", d2)\n",
        "    print(\" \")\n",
        "    ans_in = input(\"x = \")\n",
        "    answer = d2*n1/d1\n",
        "    if string_frac(ans_in)==answer:\n",
        "        print(\"Correct! \\n\")\n",
        "    else:\n",
        "        print(\"Try again\")\n",
        "        print(\"The correct answer is \", answer, \"\\n\")\n",
        "\n",
        "\n",
        "# Proportions - unknown denominator\n",
        "def proportions_d():\n",
        "    import random\n",
        "    # Uses string_frac() function\n",
        "    n1 = random.randint(1,21)\n",
        "    d1 = random.randint(1,21)\n",
        "    n2 = random.randint(1,21)\n",
        "    d2 = \"x\"\n",
        "    print(n1, \"\\t\\t\", n2)\n",
        "    print(\"--- \\t = \\t ---\")\n",
        "    print(d1, \"\\t\\t\", d2)\n",
        "    print(\" \")\n",
        "    ans_in = input(\"x = \")\n",
        "    answer = d1*n2/n1\n",
        "    if string_frac(ans_in)==answer:\n",
        "        print(\"Correct! \\n\")\n",
        "    else:\n",
        "        print(\"Try again\")\n",
        "        print(\"The correct answer is \", answer, \"\\n\")\n",
        "\n",
        "\n",
        "# test loop\n",
        "for a in range(2):\n",
        "    proportions_n()\n",
        "    proportions_d()\n",
        "    print(\" \")\n",
        "\n"
      ]
    }
  ]
}
