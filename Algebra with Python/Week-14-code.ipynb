{
  "nbformat": 4,
  "nbformat_minor": 0,
  "metadata": {
    "colab": {
      "provenance": [],
      "authorship_tag": "ABX9TyPkEnzGpB5ZsGNYsPMWwn65",
      "include_colab_link": true
    },
    "kernelspec": {
      "name": "python3",
      "display_name": "Python 3"
    },
    "language_info": {
      "name": "python"
    }
  },
  "cells": [
    {
      "cell_type": "markdown",
      "metadata": {
        "id": "view-in-github",
        "colab_type": "text"
      },
      "source": [
        "<a href=\"https://colab.research.google.com/github/edatfreecodecamp/python-math/blob/main/Week-14-code.ipynb\" target=\"_parent\"><img src=\"https://colab.research.google.com/assets/colab-badge.svg\" alt=\"Open In Colab\"/></a>"
      ]
    },
    {
      "cell_type": "markdown",
      "source": [
        "Base 10, the common log"
      ],
      "metadata": {
        "id": "2ACcb10TDBWn"
      }
    },
    {
      "cell_type": "code",
      "execution_count": null,
      "metadata": {
        "id": "utu7V3SwCaYe",
        "colab": {
          "base_uri": "https://localhost:8080/"
        },
        "outputId": "5598b909-04a0-4eb9-d97d-153baca06cec"
      },
      "outputs": [
        {
          "output_type": "stream",
          "name": "stdout",
          "text": [
            "4.0\n",
            "2.9999999999999996\n",
            "3.0\n"
          ]
        }
      ],
      "source": [
        "import math\n",
        "\n",
        "print(math.log(10000,10)) \n",
        "\n",
        "# Python weirdness\n",
        "print(math.log(1000,10))\n",
        "\n",
        "print(round(math.log(1000,10),4)) \n",
        "\n",
        "\n"
      ]
    },
    {
      "cell_type": "markdown",
      "source": [
        "Base 2, or any other base"
      ],
      "metadata": {
        "id": "O3Iw8QL4DLCV"
      }
    },
    {
      "cell_type": "code",
      "source": [
        "import math\n",
        "\n",
        "print(math.log(15,2))\n"
      ],
      "metadata": {
        "id": "JVTYImelC2rO",
        "colab": {
          "base_uri": "https://localhost:8080/"
        },
        "outputId": "9ce0aeea-9235-4373-bf2a-24f388da9bf7"
      },
      "execution_count": null,
      "outputs": [
        {
          "output_type": "stream",
          "name": "stdout",
          "text": [
            "3.9068905956085187\n"
          ]
        }
      ]
    },
    {
      "cell_type": "markdown",
      "source": [
        "Natural log"
      ],
      "metadata": {
        "id": "sy8-Jln7EJZ3"
      }
    },
    {
      "cell_type": "code",
      "source": [
        "import math\n",
        "\n",
        "x = math.e**3\n",
        "# e = 2.718281828\n",
        "\n",
        "print(math.log(x)) \n"
      ],
      "metadata": {
        "colab": {
          "base_uri": "https://localhost:8080/"
        },
        "id": "Z9chIleSEOdM",
        "outputId": "c4a4086c-10f5-43b4-f98d-971bd5d4ed48"
      },
      "execution_count": null,
      "outputs": [
        {
          "output_type": "stream",
          "name": "stdout",
          "text": [
            "3.0\n"
          ]
        }
      ]
    },
    {
      "cell_type": "markdown",
      "source": [
        "A good use of natural log: how long will it take for an investment to double in value?<br>\n",
        "Start with the continuous growth formula:<br>\n",
        "A = Pe<sup>rt</sup><br>\n",
        "If the amount is double, then annuity is two times the principle:<br>\n",
        "2P = Pe<sup>rt</sup><br>\n",
        "Divide both sides by P and get this:<br>\n",
        "2 = e<sup>rt</sup><br>\n",
        "Because of the base <i>e</i>, take the natural log of both sides and get this:<br>\n",
        "ln(2) = rt<br>\n",
        "Then divide by r to solve for t.<br>\n",
        "$\\frac{ln(2)}{r}$ = t\n"
      ],
      "metadata": {
        "id": "V-UdGwh6GPX7"
      }
    },
    {
      "cell_type": "code",
      "source": [
        "import math\n",
        "\n",
        "# Rate of increase as a decimal\n",
        "r = .09\n",
        "\n",
        "# Natural log of 2 divided by rate\n",
        "t = round(math.log(2)/r)\n",
        "\n",
        "print(\"It will double in \", t, \" years\")"
      ],
      "metadata": {
        "id": "9cnrLkVqEVAa",
        "colab": {
          "base_uri": "https://localhost:8080/"
        },
        "outputId": "b3f0b17b-d6c8-4f2c-d5ce-45bacaba76ea"
      },
      "execution_count": null,
      "outputs": [
        {
          "output_type": "stream",
          "name": "stdout",
          "text": [
            "It will double in  8  years\n"
          ]
        }
      ]
    },
    {
      "cell_type": "markdown",
      "source": [
        "Graphing"
      ],
      "metadata": {
        "id": "cjapP-ykunFl"
      }
    },
    {
      "cell_type": "code",
      "source": [
        "import matplotlib.pyplot as plt\n",
        "import numpy as np\n",
        "import math\n",
        "\n",
        "xmin = -10\n",
        "xmax = 10\n",
        "ymin = -10\n",
        "ymax = 10\n",
        "points = 10*(xmax-xmin)\n",
        "x = np.linspace(xmin,xmax,points) \n",
        "x2 = np.linspace(.01,xmax,points) \n",
        "\n",
        "fig, ax = plt.subplots()\n",
        "plt.axis([xmin,xmax,ymin,ymax]) # window size\n",
        "plt.plot([xmin,xmax],[0,0],'b') # blue x axis\n",
        "plt.plot([0,0],[ymin,ymax], 'b') # blue y axis\n",
        "\n",
        "# line 1\n",
        "y1 = 2**x\n",
        "#y1 = math.e**x\n",
        "plt.plot(x, y1)\n",
        "\n",
        "# line 2\n",
        "y2 = np.log2(x2) \n",
        "#y2 = np.log(x2) \n",
        "plt.plot(x2, y2)\n",
        "\n",
        "# line 3\n",
        "y3 = x\n",
        "plt.plot(x, y3)\n",
        "\n",
        "plt.show()"
      ],
      "metadata": {
        "id": "8F4rj4zjG9An",
        "colab": {
          "base_uri": "https://localhost:8080/",
          "height": 269
        },
        "outputId": "ea7b6e1c-18f7-4001-c71e-2526d4bf001f"
      },
      "execution_count": null,
      "outputs": [
        {
          "output_type": "display_data",
          "data": {
            "text/plain": [
              "<Figure size 432x288 with 1 Axes>"
            ],
            "image/png": "[encoded data removed]"
          },
          "metadata": {
            "needs_background": "light"
          }
        }
      ]
    },
    {
      "cell_type": "markdown",
      "source": [
        "Scientific notation"
      ],
      "metadata": {
        "id": "qoxrE4DKxg83"
      }
    },
    {
      "cell_type": "code",
      "source": [
        "print(3.2*10**5)\n"
      ],
      "metadata": {
        "id": "ZXlOet5VxkZl"
      },
      "execution_count": null,
      "outputs": []
    },
    {
      "cell_type": "markdown",
      "source": [
        "Exponent -2 works fine"
      ],
      "metadata": {
        "id": "jelLz0ta0Gnt"
      }
    },
    {
      "cell_type": "code",
      "source": [
        "print(4.5*10**-2)\n"
      ],
      "metadata": {
        "colab": {
          "base_uri": "https://localhost:8080/"
        },
        "id": "RBoOkMkoz8oP",
        "outputId": "7ff826f7-c310-4b9c-a742-551b4430904e"
      },
      "execution_count": null,
      "outputs": [
        {
          "output_type": "stream",
          "name": "stdout",
          "text": [
            "0.045\n"
          ]
        }
      ]
    },
    {
      "cell_type": "markdown",
      "source": [
        "Exponent -3 gets weird"
      ],
      "metadata": {
        "id": "TzoeVsmM0KXf"
      }
    },
    {
      "cell_type": "code",
      "source": [
        "print(4.5*10**-3)\n"
      ],
      "metadata": {
        "id": "y6royhyAx5ht",
        "colab": {
          "base_uri": "https://localhost:8080/"
        },
        "outputId": "1c77d2b6-4188-46de-f893-5efd80415094"
      },
      "execution_count": null,
      "outputs": [
        {
          "output_type": "stream",
          "name": "stdout",
          "text": [
            "0.0045000000000000005\n"
          ]
        }
      ]
    },
    {
      "cell_type": "markdown",
      "source": [
        "Exponent -4 requires round() to display decimal notation"
      ],
      "metadata": {
        "id": "8FSaayYu0QMe"
      }
    },
    {
      "cell_type": "code",
      "source": [
        "a = round(4.5*10**-4,5)\n",
        "print(a)\n"
      ],
      "metadata": {
        "colab": {
          "base_uri": "https://localhost:8080/"
        },
        "id": "WFITkNdLxycc",
        "outputId": "0d021bfd-082e-4585-974d-fb79ab90c61e"
      },
      "execution_count": null,
      "outputs": [
        {
          "output_type": "stream",
          "name": "stdout",
          "text": [
            "0.00045\n"
          ]
        }
      ]
    },
    {
      "cell_type": "markdown",
      "source": [
        "Exponent -5 forces the scientific notation"
      ],
      "metadata": {
        "id": "epY7WqDr1Uvc"
      }
    },
    {
      "cell_type": "code",
      "source": [
        "a = round(4.5*10**-5,6)\n",
        "print(a)"
      ],
      "metadata": {
        "colab": {
          "base_uri": "https://localhost:8080/"
        },
        "id": "uO-pTAoaz3No",
        "outputId": "bd1ef5bf-e424-405e-b798-b226b6b961ec"
      },
      "execution_count": null,
      "outputs": [
        {
          "output_type": "stream",
          "name": "stdout",
          "text": [
            "4.5e-05\n"
          ]
        }
      ]
    },
    {
      "cell_type": "markdown",
      "source": [
        "Convert to scientific notation"
      ],
      "metadata": {
        "id": "Yj8kUuQf2MnB"
      }
    },
    {
      "cell_type": "code",
      "source": [
        "import math\n",
        "\n",
        "a = .0005\n",
        "\n",
        "exp = math.floor(math.log(a, 10))\n",
        "n = round(a/(10**exp),2)\n",
        "\n",
        "# This addresses rounding errors\n",
        "if n>=10:\n",
        "    exp = exp +1\n",
        "    n = a/(10**exp)\n",
        "\n",
        "print(a, \" = \", n, \"* 10**\", exp)\n"
      ],
      "metadata": {
        "colab": {
          "base_uri": "https://localhost:8080/"
        },
        "id": "8SxnJ4RA2P3V",
        "outputId": "9c797e9d-b609-4143-a830-2570cf88545f"
      },
      "execution_count": null,
      "outputs": [
        {
          "output_type": "stream",
          "name": "stdout",
          "text": [
            "0.0005  =  5.0 * 10** -4\n"
          ]
        }
      ]
    }
  ]
}
